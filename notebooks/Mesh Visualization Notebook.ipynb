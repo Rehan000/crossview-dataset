{
 "cells": [
  {
   "cell_type": "markdown",
   "id": "c91ceab7-6627-4788-8084-e8691c257f6f",
   "metadata": {},
   "source": [
    "# Mesh Visualization Notebook"
   ]
  },
  {
   "cell_type": "code",
   "execution_count": 1,
   "id": "ddf5c26b-d8d2-433a-86c6-fa05b943e513",
   "metadata": {},
   "outputs": [
    {
     "name": "stdout",
     "output_type": "stream",
     "text": [
      "Jupyter environment detected. Enabling Open3D WebVisualizer.\n",
      "[Open3D INFO] WebRTC GUI backend enabled.\n",
      "[Open3D INFO] WebRTCWindowSystem: HTTP handshake server disabled.\n"
     ]
    }
   ],
   "source": [
    "import open3d as o3d"
   ]
  },
  {
   "cell_type": "code",
   "execution_count": 4,
   "id": "0fe861eb-a0c6-4a11-9003-7ebef12e861d",
   "metadata": {},
   "outputs": [],
   "source": [
    "mesh = o3d.io.read_triangle_mesh(\"../data/amsterdam/mesh/8-328-552/obj/8-328-552-LoD22-3D.obj\")\n",
    "o3d.visualization.draw_geometries([mesh])"
   ]
  },
  {
   "cell_type": "code",
   "execution_count": null,
   "id": "844afec9-ca57-48b7-bf30-04db064495ff",
   "metadata": {},
   "outputs": [],
   "source": []
  }
 ],
 "metadata": {
  "kernelspec": {
   "display_name": "Python 3 (ipykernel)",
   "language": "python",
   "name": "python3"
  },
  "language_info": {
   "codemirror_mode": {
    "name": "ipython",
    "version": 3
   },
   "file_extension": ".py",
   "mimetype": "text/x-python",
   "name": "python",
   "nbconvert_exporter": "python",
   "pygments_lexer": "ipython3",
   "version": "3.10.18"
  }
 },
 "nbformat": 4,
 "nbformat_minor": 5
}
